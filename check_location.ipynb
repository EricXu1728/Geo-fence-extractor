{
 "cells": [
  {
   "cell_type": "code",
   "execution_count": 9,
   "metadata": {},
   "outputs": [
    {
     "name": "stdout",
     "output_type": "stream",
     "text": [
      "{'type': 'geoFencingGeometry', 'features': [{'properties': {'id': 'box1', 'name': 'Zone A'}, 'geometry': [[-122.42, 37.78], [-122.41, 37.78], [-122.41, 37.77], [-122.42, 37.77], [-122.42, 37.78]]}, {'properties': {'id': 'box2', 'name': 'Zone B'}, 'geometry': [[-122.4, 37.79], [-122.39, 37.79], [-122.39, 37.78], [-122.4, 37.78], [-122.4, 37.79]]}, {'properties': {'id': 'box3', 'name': 'Zone C'}, 'geometry': [[-122.43, 37.76], [-122.42, 37.76], [-122.42, 37.75], [-122.43, 37.75], [-122.43, 37.76]]}, {'properties': {'id': 'box4', 'name': 'Zone D'}, 'geometry': [[-122.38, 37.8], [-122.37, 37.8], [-122.37, 37.79], [-122.38, 37.79], [-122.38, 37.8]]}]}\n"
     ]
    }
   ],
   "source": [
    "import json\n",
    "\n",
    "file_path = \"geometry.json\"\n",
    "\n",
    "with open(file_path, 'r') as file:\n",
    "    data = json.load(file)\n",
    "    \n",
    "print(data)\n",
    "features = data[\"features\"]"
   ]
  },
  {
   "cell_type": "code",
   "execution_count": 10,
   "metadata": {},
   "outputs": [],
   "source": [
    "def is_point_inside_polygon(x, y, polygon):\n",
    "    \"\"\"\n",
    "    Determines if a point (x, y) is inside a given polygon using the Ray-Casting method.\n",
    "    \"\"\"\n",
    "    n = len(polygon)\n",
    "    inside = False\n",
    "\n",
    "    p1x, p1y = polygon[0]\n",
    "    for i in range(n + 1):\n",
    "        p2x, p2y = polygon[i % n]\n",
    "        if min(p1y, p2y) < y <= max(p1y, p2y) and x <= max(p1x, p2x):\n",
    "            if p1y != p2y:\n",
    "                xinters = (y - p1y) * (p2x - p1x) / (p2y - p1y) + p1x\n",
    "            if p1x == p2x or x <= xinters:\n",
    "                inside = not inside\n",
    "        p1x, p1y = p2x, p2y\n",
    "\n",
    "    return inside"
   ]
  },
  {
   "cell_type": "code",
   "execution_count": 11,
   "metadata": {},
   "outputs": [
    {
     "name": "stdout",
     "output_type": "stream",
     "text": [
      "Is the point inside Zone A? True\n"
     ]
    }
   ],
   "source": [
    "point_x, point_y = -122.415, 37.775\n",
    "is_inside = is_point_inside_polygon(point_x, point_y, features[0][\"geometry\"])\n",
    "\n",
    "print(f\"Is the point inside Zone A? {is_inside}\")"
   ]
  },
  {
   "cell_type": "code",
   "execution_count": 12,
   "metadata": {},
   "outputs": [],
   "source": [
    "def getFences(x, y, geometry):\n",
    "    box_list = []\n",
    "    for i in geometry:\n",
    "        if is_point_inside_polygon(x, y, i[\"geometry\"]):\n",
    "            box_list.append(i[\"properties\"][\"name\"])\n",
    "            \n",
    "    return box_list"
   ]
  },
  {
   "cell_type": "code",
   "execution_count": 13,
   "metadata": {},
   "outputs": [
    {
     "data": {
      "text/plain": [
       "['Zone A']"
      ]
     },
     "execution_count": 13,
     "metadata": {},
     "output_type": "execute_result"
    }
   ],
   "source": [
    "point_x, point_y = -122.415, 37.775\n",
    "getFences(point_x, point_y, features)"
   ]
  },
  {
   "cell_type": "markdown",
   "metadata": {},
   "source": [
    "suppose we have a big dataframe\n",
    "we have set of fences\n",
    "isolate every consequtive sequence for every zone. - every sequence of rows that coorispond to a time that the car is in a zone\n",
    "if you have 5 zone. 10 laps. you should have 50 subsets\n",
    "\n",
    "If we ask we want the times we are in zone \n",
    "\n",
    "I ask for zoneA. Give rows that are in zone A"
   ]
  },
  {
   "cell_type": "code",
   "execution_count": null,
   "metadata": {},
   "outputs": [],
   "source": []
  }
 ],
 "metadata": {
  "kernelspec": {
   "display_name": "Python 3",
   "language": "python",
   "name": "python3"
  },
  "language_info": {
   "codemirror_mode": {
    "name": "ipython",
    "version": 3
   },
   "file_extension": ".py",
   "mimetype": "text/x-python",
   "name": "python",
   "nbconvert_exporter": "python",
   "pygments_lexer": "ipython3",
   "version": "3.12.0"
  }
 },
 "nbformat": 4,
 "nbformat_minor": 2
}
