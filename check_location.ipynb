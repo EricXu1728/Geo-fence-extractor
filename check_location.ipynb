{
 "cells": [
  {
   "cell_type": "code",
   "execution_count": null,
   "metadata": {},
   "outputs": [],
   "source": [
    "import json\n",
    "def is_point_inside_polygon(x, y, polygon):\n",
    "    \"\"\"\n",
    "    Determines if a point (x, y) is inside a given polygon using the Ray-Casting method.\n",
    "    \"\"\"\n",
    "    n = len(polygon)\n",
    "    inside = False\n",
    "\n",
    "    p1x, p1y = polygon[0]\n",
    "    for i in range(n + 1):\n",
    "        p2x, p2y = polygon[i % n]\n",
    "        if min(p1y, p2y) < y <= max(p1y, p2y) and x <= max(p1x, p2x):\n",
    "            if p1y != p2y:\n",
    "                xinters = (y - p1y) * (p2x - p1x) / (p2y - p1y) + p1x\n",
    "            if p1x == p2x or x <= xinters:\n",
    "                inside = not inside\n",
    "        p1x, p1y = p2x, p2y\n",
    "\n",
    "    return inside"
   ]
  },
  {
   "cell_type": "code",
   "execution_count": 23,
   "metadata": {},
   "outputs": [],
   "source": [
    "def getFences(x, y, geometry):\n",
    "    box_list = []\n",
    "    for i in geometry:\n",
    "        if is_point_inside_polygon(x, y, i[\"geometry\"]):\n",
    "            box_list.append(i[\"properties\"][\"name\"])\n",
    "            \n",
    "    return box_list"
   ]
  },
  {
   "cell_type": "code",
   "execution_count": null,
   "metadata": {},
   "outputs": [],
   "source": [
    "import pandas as pd\n",
    "def divideDataFrame(df, features, reset_sensitivity=2):\n",
    "    \"\"\"\n",
    "    Divides a DataFrame into multiple DataFrames based on the zones defined in the geometry.\n",
    "    Each zone will contain the rows that fall within its boundaries.\n",
    "    \"\"\"\n",
    "        \n",
    "    zone_dict = {} \n",
    "    final_zone_dict = {}\n",
    "    zone_last_seen = {}\n",
    "    index_counter = 0\n",
    "\n",
    "    if \"Latitude|Degrees|-180.0|180.0|25\" not in df.columns or \"Longitude|Degrees|-180.0|180.0|25\" not in df.columns:\n",
    "        raise ValueError(\"Latitude or Longitude column missing in DataFrame.\")\n",
    "\n",
    "    # Process each row in the DataFrame\n",
    "    for _, row in df.iterrows():\n",
    "        y = row[\"Latitude|Degrees|-180.0|180.0|25\"]\n",
    "        x = row[\"Longitude|Degrees|-180.0|180.0|25\"]\n",
    "\n",
    "        if pd.isna(x) or pd.isna(y):\n",
    "            continue \n",
    "\n",
    "        areas = getFences(x, y, features)\n",
    "\n",
    "        for area in areas:\n",
    "            if area in zone_last_seen:\n",
    "            \n",
    "                if index_counter - zone_last_seen[area] > reset_sensitivity:\n",
    "                    # Save the current data to final_zone_dict before resetting\n",
    "                    if area not in final_zone_dict:\n",
    "                        final_zone_dict[area] = []\n",
    "\n",
    "                    final_zone_dict[area].append(pd.DataFrame(zone_dict[area]))  # Store previous data segment\n",
    "                    zone_dict[area] = []\n",
    "\n",
    "            # Update last seen valid index\n",
    "            zone_last_seen[area] = index_counter\n",
    "\n",
    "            # Add row to zone_dict\n",
    "            if area not in zone_dict:\n",
    "                zone_dict[area] = []\n",
    "            zone_dict[area].append(row.to_dict())\n",
    "\n",
    "        if areas:\n",
    "            index_counter += 1 \n",
    "\n",
    "    # At the end, save remaining data in zone_dict to final_zone_dict\n",
    "    for zone, rows in zone_dict.items():\n",
    "        if zone not in final_zone_dict:\n",
    "            final_zone_dict[zone] = []\n",
    "        final_zone_dict[zone].append(pd.DataFrame(rows))\n",
    "        \n",
    "    return final_zone_dict"
   ]
  }
 ],
 "metadata": {
  "kernelspec": {
   "display_name": "Python 3",
   "language": "python",
   "name": "python3"
  },
  "language_info": {
   "codemirror_mode": {
    "name": "ipython",
    "version": 3
   },
   "file_extension": ".py",
   "mimetype": "text/x-python",
   "name": "python",
   "nbconvert_exporter": "python",
   "pygments_lexer": "ipython3",
   "version": "3.12.0"
  }
 },
 "nbformat": 4,
 "nbformat_minor": 2
}
