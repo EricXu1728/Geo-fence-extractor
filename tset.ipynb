{
 "cells": [
  {
   "cell_type": "code",
   "execution_count": 18,
   "id": "f91cbc34",
   "metadata": {},
   "outputs": [
    {
     "name": "stdout",
     "output_type": "stream",
     "text": [
      "       Name  ...                                           geometry\n",
      "0  Feature1  ...  POLYGON ((-77.41422 39.67684, -77.41444 39.676...\n",
      "1  Feature2  ...  POLYGON ((-77.41471 39.67699, -77.41494 39.677...\n",
      "\n",
      "[2 rows x 4 columns]\n",
      "POLYGON ((-77.41421971304048 39.67684194967016, -77.4144445764009 39.676902239121866, -77.41433377416533 39.677099401923385, -77.41411868747277 39.67701630024671, -77.41421971304048 39.67684194967016))\n",
      "POLYGON ((-77.41470528754338 39.67699348802174, -77.41493503923772 39.67723953416248, -77.41476883588437 39.67724116360712, -77.41456678474894 39.67724279305176, -77.41455049030253 39.677011411912794, -77.41455211974717 39.67671159409892, -77.41482260755751 39.676657822425774, -77.41498392257694 39.67675395965957, -77.41504095313935 39.67697393468605, -77.41506376536432 39.67713850859476, -77.41495948090733 39.677213463048226, -77.41470528754338 39.67699348802174))\n"
     ]
    }
   ],
   "source": [
    "import geopandas as gpd\n",
    "data = gpd.read_file(\"EricFeats.gpkg\")\n",
    "print(data)\n",
    "\n",
    "print(data[\"geometry\"][0])\n",
    "print(data[\"geometry\"][1])"
   ]
  },
  {
   "cell_type": "code",
   "execution_count": 21,
   "id": "b05d83b6",
   "metadata": {},
   "outputs": [
    {
     "name": "stdout",
     "output_type": "stream",
     "text": [
      "\n",
      "Zone: Feature1\n",
      "   Latitude|Degrees|-180.0|180.0|25  Longitude|Degrees|-180.0|180.0|25\n",
      "0                          39.67685                          -77.41422\n",
      "1                          39.67695                          -77.41430\n",
      "   Latitude|Degrees|-180.0|180.0|25  Longitude|Degrees|-180.0|180.0|25\n",
      "0                          39.67690                          -77.41430\n",
      "1                          39.67685                          -77.41422\n",
      "2                          39.67695                          -77.41430\n",
      "   Latitude|Degrees|-180.0|180.0|25  Longitude|Degrees|-180.0|180.0|25\n",
      "0                           39.6769                           -77.4143\n",
      "\n",
      "Zone: Feature2\n",
      "   Latitude|Degrees|-180.0|180.0|25  Longitude|Degrees|-180.0|180.0|25\n",
      "0                          39.67700                           -77.4147\n",
      "1                          39.67715                           -77.4149\n",
      "2                          39.67710                           -77.4148\n",
      "   Latitude|Degrees|-180.0|180.0|25  Longitude|Degrees|-180.0|180.0|25\n",
      "0                          39.67700                           -77.4147\n",
      "1                          39.67715                           -77.4149\n",
      "2                          39.67710                           -77.4148\n"
     ]
    }
   ],
   "source": [
    "import geopandas as gpd\n",
    "import pandas as pd\n",
    "import geo_fencing_poly\n",
    "\n",
    "# Load zones from GPKG\n",
    "features = gpd.read_file(\"EricFeats.gpkg\")\n",
    "\n",
    "# Load your other data (assume this is already loaded into `df`)\n",
    "#df = pd.read_csv(\"cleaned_donuts.csv\")\n",
    "df = pd.DataFrame([\n",
    "    # just some test data\n",
    "    {\"Latitude|Degrees|-180.0|180.0|25\": 39.6766, \"Longitude|Degrees|-180.0|180.0|25\": -77.4140},\n",
    "    {\"Latitude|Degrees|-180.0|180.0|25\": 39.67685, \"Longitude|Degrees|-180.0|180.0|25\": -77.41422},\n",
    "    {\"Latitude|Degrees|-180.0|180.0|25\": 39.67695, \"Longitude|Degrees|-180.0|180.0|25\": -77.41430},\n",
    "    {\"Latitude|Degrees|-180.0|180.0|25\": 39.6771, \"Longitude|Degrees|-180.0|180.0|25\": -77.4145},\n",
    "    {\"Latitude|Degrees|-180.0|180.0|25\": 39.67700, \"Longitude|Degrees|-180.0|180.0|25\": -77.4147},\n",
    "    {\"Latitude|Degrees|-180.0|180.0|25\": 39.67715, \"Longitude|Degrees|-180.0|180.0|25\": -77.4149},\n",
    "    {\"Latitude|Degrees|-180.0|180.0|25\": 39.6773, \"Longitude|Degrees|-180.0|180.0|25\": -77.4151},\n",
    "    {\"Latitude|Degrees|-180.0|180.0|25\": 39.6769, \"Longitude|Degrees|-180.0|180.0|25\": -77.4143},\n",
    "    {\"Latitude|Degrees|-180.0|180.0|25\": 39.6771, \"Longitude|Degrees|-180.0|180.0|25\": -77.4148},\n",
    "    {\"Latitude|Degrees|-180.0|180.0|25\": 39.6765, \"Longitude|Degrees|-180.0|180.0|25\": -77.4140},\n",
    "    {\"Latitude|Degrees|-180.0|180.0|25\": 39.6766, \"Longitude|Degrees|-180.0|180.0|25\": -77.4140},\n",
    "    {\"Latitude|Degrees|-180.0|180.0|25\": 39.67685, \"Longitude|Degrees|-180.0|180.0|25\": -77.41422},\n",
    "    {\"Latitude|Degrees|-180.0|180.0|25\": 39.67695, \"Longitude|Degrees|-180.0|180.0|25\": -77.41430},\n",
    "    {\"Latitude|Degrees|-180.0|180.0|25\": 39.6771, \"Longitude|Degrees|-180.0|180.0|25\": -77.4145},\n",
    "    {\"Latitude|Degrees|-180.0|180.0|25\": 39.67700, \"Longitude|Degrees|-180.0|180.0|25\": -77.4147},\n",
    "    {\"Latitude|Degrees|-180.0|180.0|25\": 39.67715, \"Longitude|Degrees|-180.0|180.0|25\": -77.4149},\n",
    "    {\"Latitude|Degrees|-180.0|180.0|25\": 39.6773, \"Longitude|Degrees|-180.0|180.0|25\": -77.4151},\n",
    "    {\"Latitude|Degrees|-180.0|180.0|25\": 39.6769, \"Longitude|Degrees|-180.0|180.0|25\": -77.4143},\n",
    "    {\"Latitude|Degrees|-180.0|180.0|25\": 39.6771, \"Longitude|Degrees|-180.0|180.0|25\": -77.4148},\n",
    "    {\"Latitude|Degrees|-180.0|180.0|25\": 39.6765, \"Longitude|Degrees|-180.0|180.0|25\": -77.4140},\n",
    "])\n",
    "\n",
    "# Divide the dataframe by zone\n",
    "zones_data = geo_fencing_poly.divideDataFrame(df, features)\n",
    "\n",
    "# Access rows for a specific zone\n",
    "for zone_name, data_segments in zones_data.items():\n",
    "    print(f\"\\nZone: {zone_name}\")\n",
    "    for segment in data_segments:\n",
    "        print(segment)\n",
    "        "
   ]
  }
 ],
 "metadata": {
  "kernelspec": {
   "display_name": "Python 3",
   "language": "python",
   "name": "python3"
  },
  "language_info": {
   "codemirror_mode": {
    "name": "ipython",
    "version": 3
   },
   "file_extension": ".py",
   "mimetype": "text/x-python",
   "name": "python",
   "nbconvert_exporter": "python",
   "pygments_lexer": "ipython3",
   "version": "3.12.0"
  }
 },
 "nbformat": 4,
 "nbformat_minor": 5
}
